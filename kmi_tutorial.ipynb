{
  "nbformat": 4,
  "nbformat_minor": 0,
  "metadata": {
    "colab": {
      "provenance": [],
      "authorship_tag": "ABX9TyOXRkrFuxsw8mwSDNSGBSJ0",
      "include_colab_link": true
    },
    "kernelspec": {
      "name": "python3",
      "display_name": "Python 3"
    },
    "language_info": {
      "name": "python"
    },
    "accelerator": "GPU",
    "gpuClass": "standard"
  },
  "cells": [
    {
      "cell_type": "markdown",
      "metadata": {
        "id": "view-in-github",
        "colab_type": "text"
      },
      "source": [
        "<a href=\"https://colab.research.google.com/github/AoShuang92/KMi_tutorial/blob/main/kmi_tutorial.ipynb\" target=\"_parent\"><img src=\"https://colab.research.google.com/assets/colab-badge.svg\" alt=\"Open In Colab\"/></a>"
      ]
    },
    {
      "cell_type": "markdown",
      "source": [
        "Sample training script on CIFAR10 with LeNet"
      ],
      "metadata": {
        "id": "Ft-N0mG0nv9V"
      }
    },
    {
      "cell_type": "code",
      "execution_count": null,
      "metadata": {
        "id": "kF9TadoHecOJ"
      },
      "outputs": [],
      "source": [
        "import torch\n",
        "import torchvision\n",
        "import torchvision.transforms as transforms\n",
        "\n",
        "device = torch.device('cuda' if torch.cuda.is_available() else 'cpu')"
      ]
    },
    {
      "cell_type": "markdown",
      "source": [
        "Dataloader"
      ],
      "metadata": {
        "id": "BSLlMtQ5n28a"
      }
    },
    {
      "cell_type": "code",
      "source": [
        "train_batch_size = 256\n",
        "test_batch_size = 1024\n",
        "\n",
        "transform = transforms.Compose(\n",
        "    [transforms.ToTensor(),\n",
        "     transforms.Normalize((0.5, 0.5, 0.5), (0.5, 0.5, 0.5))])\n",
        "\n",
        "\n",
        "trainset = torchvision.datasets.CIFAR10(root='./data', train=True,\n",
        "                                        download=True, transform=transform)\n",
        "trainloader = torch.utils.data.DataLoader(trainset, batch_size=train_batch_size,\n",
        "                                          shuffle=True, num_workers=2)\n",
        "\n",
        "testset = torchvision.datasets.CIFAR10(root='./data', train=False,\n",
        "                                       download=True, transform=transform)\n",
        "testloader = torch.utils.data.DataLoader(testset, batch_size=test_batch_size,\n",
        "                                         shuffle=False, num_workers=2)\n",
        "\n",
        "classes = ['plane', 'car', 'bird', 'cat','deer', 'dog', 'frog', 'horse', 'ship', 'truck']"
      ],
      "metadata": {
        "colab": {
          "base_uri": "https://localhost:8080/"
        },
        "id": "BDKsqZunfmJw",
        "outputId": "746cb4cb-c56b-407d-bb46-0f1f932150d0"
      },
      "execution_count": null,
      "outputs": [
        {
          "output_type": "stream",
          "name": "stdout",
          "text": [
            "Downloading https://www.cs.toronto.edu/~kriz/cifar-10-python.tar.gz to ./data/cifar-10-python.tar.gz\n"
          ]
        },
        {
          "output_type": "stream",
          "name": "stderr",
          "text": [
            "100%|██████████| 170498071/170498071 [00:13<00:00, 12844258.32it/s]\n"
          ]
        },
        {
          "output_type": "stream",
          "name": "stdout",
          "text": [
            "Extracting ./data/cifar-10-python.tar.gz to ./data\n",
            "Files already downloaded and verified\n"
          ]
        }
      ]
    },
    {
      "cell_type": "markdown",
      "source": [
        "Data Visualization"
      ],
      "metadata": {
        "id": "NUeY-1W-n44H"
      }
    },
    {
      "cell_type": "code",
      "source": [
        "import matplotlib.pyplot as plt\n",
        "import numpy as np\n",
        "\n",
        "def imshow(img):\n",
        "    img = img / 2 + 0.5     # unnormalize\n",
        "    npimg = img.numpy()\n",
        "    plt.imshow(np.transpose(npimg, (1, 2, 0)))\n",
        "    plt.show()\n",
        "\n",
        "\n",
        "# get some random training images\n",
        "dataiter = iter(trainloader)\n",
        "images, labels = next(dataiter)\n",
        "\n",
        "# show images\n",
        "imshow(torchvision.utils.make_grid(images[:3]))\n",
        "\n",
        "# print labels\n",
        "print(' '.join(f'{classes[labels[j]]:5s}' for j in range(3)))"
      ],
      "metadata": {
        "colab": {
          "base_uri": "https://localhost:8080/",
          "height": 252
        },
        "id": "qT8vlvR3f9jP",
        "outputId": "954150ae-42b2-4db9-c419-d4392ffb8f2a"
      },
      "execution_count": null,
      "outputs": [
        {
          "output_type": "display_data",
          "data": {
            "text/plain": [
              "<Figure size 640x480 with 1 Axes>"
            ],
            "image/png": "[encoded data removed]"
          },
          "metadata": {}
        },
        {
          "output_type": "stream",
          "name": "stdout",
          "text": [
            "cat   deer  car  \n"
          ]
        }
      ]
    },
    {
      "cell_type": "markdown",
      "source": [
        "Model Architecture\n",
        "\n",
        "\n",
        "<img src=\"https://drive.google.com/uc?export=view&id=1xHEAPJ7iY6mtvLi5UwW4feobCqaY_rWm\" width=\"800\"/>"
      ],
      "metadata": {
        "id": "1CXctTKAn-mi"
      }
    },
    {
      "cell_type": "code",
      "source": [
        "import torch.nn as nn\n",
        "\n",
        "class LeNet(nn.Module):\n",
        "  def __init__(self, num_classes):\n",
        "    super(LeNet, self).__init__()\n",
        "\n",
        "    self.conv1 = nn.Conv2d(in_channels = 3, out_channels = 6, \n",
        "                           kernel_size = 5, stride = 1, padding = 0)\n",
        "    self.conv2 = nn.Conv2d(in_channels = 6, out_channels = 16, \n",
        "                           kernel_size = 5, stride = 1, padding = 0)\n",
        "    self.conv3 = nn.Conv2d(in_channels = 16, out_channels = 120, \n",
        "                           kernel_size = 5, stride = 1, padding = 0)\n",
        "    self.linear1 = nn.Linear(120, 84)\n",
        "    self.linear2 = nn.Linear(84, num_classes)\n",
        "    self.relu = nn.ReLU()\n",
        "    self.avgpool = nn.AvgPool2d(kernel_size = 2, stride = 2)\n",
        "\n",
        "  def forward(self, x):\n",
        "    x = self.conv1(x)\n",
        "    x = self.relu(x)\n",
        "    x = self.avgpool(x)\n",
        "    x = self.conv2(x)\n",
        "    x = self.relu(x)\n",
        "    x = self.avgpool(x)\n",
        "    x = self.conv3(x)\n",
        "    x = self.relu(x)\n",
        "    \n",
        "    x = x.reshape(x.shape[0], -1)\n",
        "    x = self.linear1(x)\n",
        "    x = self.relu(x)\n",
        "    x = self.linear2(x)\n",
        "    return x"
      ],
      "metadata": {
        "id": "U8ORyercgll4"
      },
      "execution_count": null,
      "outputs": []
    },
    {
      "cell_type": "markdown",
      "source": [
        "Model Summary"
      ],
      "metadata": {
        "id": "IR22V7-4EEZS"
      }
    },
    {
      "cell_type": "code",
      "source": [
        "from torchsummary import summary\n",
        "\n",
        "num_classes = 10\n",
        "model = LeNet(num_classes).to(device)\n",
        "\n",
        "x = torch.randn(64,3,32,32).to(device)\n",
        "output = model(x)\n",
        "\n",
        "print(model)\n",
        "summary(model, (3,32,32))\n",
        "print(\"output.shape : \",output.shape)"
      ],
      "metadata": {
        "colab": {
          "base_uri": "https://localhost:8080/"
        },
        "id": "TRKmbXqjieOo",
        "outputId": "aafad3ae-7fa9-4ee5-c56d-b4c2e63e0bab"
      },
      "execution_count": null,
      "outputs": [
        {
          "output_type": "stream",
          "name": "stdout",
          "text": [
            "LeNet(\n",
            "  (conv1): Conv2d(3, 6, kernel_size=(5, 5), stride=(1, 1))\n",
            "  (conv2): Conv2d(6, 16, kernel_size=(5, 5), stride=(1, 1))\n",
            "  (conv3): Conv2d(16, 120, kernel_size=(5, 5), stride=(1, 1))\n",
            "  (linear1): Linear(in_features=120, out_features=84, bias=True)\n",
            "  (linear2): Linear(in_features=84, out_features=10, bias=True)\n",
            "  (relu): ReLU()\n",
            "  (avgpool): AvgPool2d(kernel_size=2, stride=2, padding=0)\n",
            ")\n",
            "----------------------------------------------------------------\n",
            "        Layer (type)               Output Shape         Param #\n",
            "================================================================\n",
            "            Conv2d-1            [-1, 6, 28, 28]             456\n",
            "              ReLU-2            [-1, 6, 28, 28]               0\n",
            "         AvgPool2d-3            [-1, 6, 14, 14]               0\n",
            "            Conv2d-4           [-1, 16, 10, 10]           2,416\n",
            "              ReLU-5           [-1, 16, 10, 10]               0\n",
            "         AvgPool2d-6             [-1, 16, 5, 5]               0\n",
            "            Conv2d-7            [-1, 120, 1, 1]          48,120\n",
            "              ReLU-8            [-1, 120, 1, 1]               0\n",
            "            Linear-9                   [-1, 84]          10,164\n",
            "             ReLU-10                   [-1, 84]               0\n",
            "           Linear-11                   [-1, 10]             850\n",
            "================================================================\n",
            "Total params: 62,006\n",
            "Trainable params: 62,006\n",
            "Non-trainable params: 0\n",
            "----------------------------------------------------------------\n",
            "Input size (MB): 0.01\n",
            "Forward/backward pass size (MB): 0.11\n",
            "Params size (MB): 0.24\n",
            "Estimated Total Size (MB): 0.36\n",
            "----------------------------------------------------------------\n",
            "output.shape :  torch.Size([64, 10])\n"
          ]
        }
      ]
    },
    {
      "cell_type": "markdown",
      "source": [
        "Training Script"
      ],
      "metadata": {
        "id": "mkFni4o7oEp8"
      }
    },
    {
      "cell_type": "code",
      "source": [
        "def train(model, trainloader, criterion, optimizer, epoch):\n",
        "    model.train()\n",
        "    for batch_idx, (inputs, targets) in enumerate(trainloader):\n",
        "        inputs, targets = inputs.to(device), targets.to(device)\n",
        "        optimizer.zero_grad()\n",
        "        outputs = model(inputs)\n",
        "        loss = criterion(outputs, targets)\n",
        "        loss.backward()\n",
        "        optimizer.step()\n",
        "        \n",
        "\n",
        "def test(model, testloader):\n",
        "    model.eval()\n",
        "    correct = 0\n",
        "    total = 0\n",
        "    with torch.no_grad():\n",
        "        for batch_idx, (inputs, targets) in enumerate(testloader):\n",
        "            inputs, targets = inputs.to(device), targets.to(device)\n",
        "            outputs = model(inputs)\n",
        "            _, predicted = outputs.max(1)\n",
        "            total += targets.size(0)\n",
        "            correct += predicted.eq(targets).sum().item()\n",
        "    return correct / total\n",
        "\n"
      ],
      "metadata": {
        "id": "fjIwHlD5jD0e"
      },
      "execution_count": null,
      "outputs": []
    },
    {
      "cell_type": "code",
      "source": [
        "import torch.optim as optim\n",
        "learning_rate = 0.1\n",
        "num_epoch = 3\n",
        "\n",
        "criterion = nn.CrossEntropyLoss().to(device)\n",
        "optimizer = optim.SGD(model.parameters(), lr=learning_rate, momentum=0.9, weight_decay=5e-4)\n",
        "\n",
        "iter_per_epoch = len(trainloader)\n",
        "\n",
        "best_epoch, best_acc = 0.0, 0\n",
        "for epoch in range(1, num_epoch + 1):\n",
        "    \n",
        "    train(model, trainloader, criterion, optimizer, epoch)\n",
        "    accuracy = test(model, testloader)\n",
        "\n",
        "    if accuracy > best_acc:\n",
        "        best_acc = accuracy\n",
        "        best_epoch = epoch\n",
        "        torch.save(model.state_dict(), 'best_model_cifar100.pth.tar')\n",
        "    print('epoch: {}  acc: {:.4f}  best epoch: {}  best acc: {:.4f}'.format(\n",
        "            epoch, accuracy, best_epoch, best_acc))\n",
        "    \n"
      ],
      "metadata": {
        "colab": {
          "base_uri": "https://localhost:8080/"
        },
        "id": "wFs_RrDok5Mm",
        "outputId": "3289c1ad-7767-4007-c99d-156877b8b632"
      },
      "execution_count": null,
      "outputs": [
        {
          "output_type": "stream",
          "name": "stdout",
          "text": [
            "epoch: 1  acc: 0.4013  best epoch: 1  best acc: 0.4013\n",
            "epoch: 2  acc: 0.4736  best epoch: 2  best acc: 0.4736\n",
            "epoch: 3  acc: 0.5134  best epoch: 3  best acc: 0.5134\n"
          ]
        }
      ]
    },
    {
      "cell_type": "code",
      "source": [],
      "metadata": {
        "id": "bsEHGS7Rl___"
      },
      "execution_count": null,
      "outputs": []
    }
  ]
}